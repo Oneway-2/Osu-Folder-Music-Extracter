{
 "metadata": {
  "language_info": {
   "codemirror_mode": {
    "name": "ipython",
    "version": 3
   },
   "file_extension": ".py",
   "mimetype": "text/x-python",
   "name": "python",
   "nbconvert_exporter": "python",
   "pygments_lexer": "ipython3",
   "version": "3.9.4"
  },
  "orig_nbformat": 2,
  "kernelspec": {
   "name": "python394jvsc74a57bd0817ce0bf5275c869ea428ba444ef2e36e3ab5bf089b3c97e44c180bff6798706",
   "display_name": "Python 3.9.4 64-bit"
  },
  "metadata": {
   "interpreter": {
    "hash": "817ce0bf5275c869ea428ba444ef2e36e3ab5bf089b3c97e44c180bff6798706"
   }
  }
 },
 "nbformat": 4,
 "nbformat_minor": 2,
 "cells": [
  {
   "cell_type": "code",
   "execution_count": 80,
   "metadata": {},
   "outputs": [],
   "source": [
    "import tkinter as tk\n",
    "from tkinter import filedialog\n",
    "import os"
   ]
  },
  {
   "cell_type": "code",
   "execution_count": 85,
   "metadata": {},
   "outputs": [],
   "source": [
    " def Ask_Directory(self):\n",
    "        dirName = filedialog.askdirectory()\n",
    "        return dirName\n",
    "\n",
    "class SampleApp(tk.Tk):\n",
    "    def __init__(self):\n",
    "        tk.Tk.__init__(self)\n",
    "        \n",
    "        self.title('Give me Osu Songs')              # 창 제목 설정\n",
    "        self.geometry(\"500x250+250+700\")   # 창 크기 (너비x높이+x좌표+y좌표)\n",
    "        self.resizable(False, False)   # 창 크기 조절 여부        \n",
    "        \n",
    "        self._frame = None\n",
    "        self.switch_frame(StartPage)\n",
    "\n",
    "    def switch_frame(self, frame_class):\n",
    "        new_frame = frame_class(self)\n",
    "        if self._frame is not None:\n",
    "            self._frame.destroy()\n",
    "        self._frame = new_frame\n",
    "        self._frame.pack()\n",
    "\n",
    "        \n",
    "\n",
    "\n",
    "class StartPage(tk.Frame):  # 암기모드'\n",
    "\n",
    "    def Select_Songs_Location(self):\n",
    "        self.songs_location = Ask_Directory(self)\n",
    "        self.songs_location_show.config(text=\"Songs Location : \" + self.songs_location)\n",
    "\n",
    "    def Select_Extract_Location(self):\n",
    "        self.extract_location = Ask_Directory(self)\n",
    "        self.extract_location_show.config(text=\"Extract Location : \" + self.extract_location)\n",
    "\n",
    "    def Extract_Start(self):\n",
    "        print(\"시작\")\n",
    "\n",
    "    def __init__(self, master):  \n",
    "        tk.Frame.__init__(self, master)\n",
    "        tk.Frame.configure(self, width = 500, height = 250)\n",
    "\n",
    "        #위에서부터 위젯 위치 순서대로 나열\n",
    "\n",
    "        self.instruction = tk.Label(self, text = \"안내: Songs 경로와 노래가 저장될 경로를 선택해주세요.\") \n",
    "        self.instruction.place(x=25, y=15)\n",
    "        \n",
    "        self.songs_location_btn = tk.Button(self, text = 'Songs 경로 선택', anchor = 'center', command = self.Select_Songs_Location)\n",
    "        self.songs_location_btn.place(x=25, y=50)    \n",
    "\n",
    "        self.songs_location_show = tk.Label(self, text = \"Song Location :\") \n",
    "        self.songs_location_show.place(x=25, y=80)\n",
    "        \n",
    "        self.extract_location_btn = tk.Button(self, text = '추출될 경로 선택', anchor = 'center', command = self.Select_Extract_Location)\n",
    "        self.extract_location_btn.place(x=25, y=110)  \n",
    "\n",
    "        self.extract_location_show = tk.Label(self, text = \"Extract Location :\")\n",
    "        self.extract_location_show.place(x=25, y=140)\n",
    "\n",
    "        self.extract_start_btn = tk.Button(self, text = '추출 시작', anchor = 'center', command = self.Extract_Start)\n",
    "        self.extract_start_btn.place(x=25, y=195)  \n",
    "\n",
    "\n",
    "  \n",
    "\n",
    "\n",
    "\n",
    "if __name__ == \"__main__\":\n",
    "    app = SampleApp()\n",
    "    app.mainloop()\n",
    "\n",
    "    \n",
    "   "
   ]
  }
 ]
}