{
 "metadata": {
  "language_info": {
   "codemirror_mode": {
    "name": "ipython",
    "version": 3
   },
   "file_extension": ".py",
   "mimetype": "text/x-python",
   "name": "python",
   "nbconvert_exporter": "python",
   "pygments_lexer": "ipython3",
   "version": "3.9.4"
  },
  "orig_nbformat": 2,
  "kernelspec": {
   "name": "python394jvsc74a57bd0817ce0bf5275c869ea428ba444ef2e36e3ab5bf089b3c97e44c180bff6798706",
   "display_name": "Python 3.9.4 64-bit"
  },
  "metadata": {
   "interpreter": {
    "hash": "817ce0bf5275c869ea428ba444ef2e36e3ab5bf089b3c97e44c180bff6798706"
   }
  }
 },
 "nbformat": 4,
 "nbformat_minor": 2,
 "cells": [
  {
   "cell_type": "code",
   "execution_count": 31,
   "metadata": {},
   "outputs": [],
   "source": [
    "import tkinter as tk\n",
    "from tkinter import filedialog"
   ]
  },
  {
   "cell_type": "code",
   "execution_count": 34,
   "metadata": {},
   "outputs": [],
   "source": [
    "class SampleApp(tk.Tk):\n",
    "    def __init__(self):\n",
    "        tk.Tk.__init__(self)\n",
    "        \n",
    "        self.title('Give me Osu Songs')              # 창 제목 설정\n",
    "        self.geometry(\"500x300+250+700\")   # 창 크기 (너비x높이+x좌표+y좌표)\n",
    "        self.resizable(False, False)   # 창 크기 조절 여부        \n",
    "        \n",
    "        self._frame = None\n",
    "        self.switch_frame(StartPage)\n",
    "\n",
    "    def switch_frame(self, frame_class):\n",
    "        new_frame = frame_class(self)\n",
    "        if self._frame is not None:\n",
    "            self._frame.destroy()\n",
    "        self._frame = new_frame\n",
    "        self._frame.pack()\n",
    "\n",
    "\n",
    "class StartPage(tk.Frame):  # 암기모드'\n",
    "\n",
    "\n",
    "    def __init__(self, master):  \n",
    "        tk.Frame.__init__(self, master)\n",
    "        tk.Frame.configure(self, width = 500, height = 300)\n",
    "\n",
    "        self.instruction = tk.Label(self, text = \"안내: Osu 폴더에 있는 Songs 폴더의 경로를 복사&붙여넣기 해주세요\") \n",
    "        self.instruction.place(x=25, y=15)\n",
    "\n",
    "        self.songs_location_show = tk.Label(self, text = \"Song Location :\") \n",
    "        self.songs_location_show.place(x=25, y=70)\n",
    "\n",
    "        self.extract_location_show = tk.Label(self, text = \"Extract Location :\")\n",
    "        self.extract_location_show.place(x=25, y=120)\n",
    "\n",
    "        self.songs_location_entry = tk.Entry(self)\n",
    "        self.songs_location_entry.bind(\"<Return>\", lambda event:self.Put_percent())\n",
    "        self.songs_location_entry.place(x=130, y=70, width=310) \n",
    "\n",
    "        self.extract_location_entry = tk.Entry(self)\n",
    "        self.extract_location_entry.bind(\"<Return>\", lambda event:self.Put_percent())\n",
    "        self.extract_location_entry.place(x=130, y=120, width=310) \n",
    "\n",
    "        self.songs_location = tk.Button(self, text = 'Songs 경로 선택', anchor = 'center')#, command = self.Save_Position)\n",
    "        self.songs_location.place(x=25, y=50)    \n",
    "\n",
    "\n",
    "\n",
    "if __name__ == \"__main__\":\n",
    "    app = SampleApp()\n",
    "    app.mainloop()"
   ]
  }
 ]
}